{
 "cells": [
  {
   "cell_type": "code",
   "execution_count": 1,
   "id": "66f605f8",
   "metadata": {},
   "outputs": [
    {
     "name": "stdout",
     "output_type": "stream",
     "text": [
      "hi Ryoka\n"
     ]
    }
   ],
   "source": [
    "print(\"hi Ryoka\")"
   ]
  },
  {
   "cell_type": "code",
   "execution_count": 4,
   "id": "b9e7daef",
   "metadata": {},
   "outputs": [
    {
     "name": "stderr",
     "output_type": "stream",
     "text": [
      "/var/folders/xm/__v5hm6145gg4qqqd8gf3fbw0000gn/T/ipykernel_738/3443659904.py:38: UserWarning: You passed in an explicit save_count=50 which is being ignored in favor of frames=10.\n",
      "  ani = animation.FuncAnimation(\n"
     ]
    },
    {
     "data": {
      "image/png": "[encoded data removed]",
      "text/plain": [
       "<Figure size 640x480 with 1 Axes>"
      ]
     },
     "metadata": {},
     "output_type": "display_data"
    }
   ],
   "source": [
    "import numpy as np\n",
    "import matplotlib.pyplot as plt\n",
    "import matplotlib.animation as animation\n",
    "\n",
    "def initialize_grid(rows, cols, density=0.2):\n",
    "    return np.random.choice([0, 1], size=(rows, cols), p=[1 - density, density])\n",
    "\n",
    "def update_grid(grid, survival_rules=(2, 3), birth_rule=3):\n",
    "    rows, cols = grid.shape\n",
    "    new_grid = grid.copy()\n",
    "\n",
    "    for i in range(rows):\n",
    "        for j in range(cols):\n",
    "            neighbors_sum = np.sum(grid[max(0, i-1):min(rows, i+2), max(0, j-1):min(cols, j+2)]) - grid[i, j]\n",
    "            if grid[i, j] == 1 and (neighbors_sum < survival_rules[0] or neighbors_sum > survival_rules[1]):\n",
    "                new_grid[i, j] = 0\n",
    "            elif grid[i, j] == 0 and neighbors_sum == birth_rule:\n",
    "                new_grid[i, j] = 1\n",
    "\n",
    "    return new_grid\n",
    "\n",
    "def update(frameNum, img, grid, rows, cols, survival_rules, birth_rule):\n",
    "    new_grid = update_grid(grid, survival_rules, birth_rule)\n",
    "    img.set_array(new_grid)\n",
    "    grid[:] = new_grid[:]\n",
    "    return img,\n",
    "\n",
    "def main():\n",
    "    rows, cols = 30, 30\n",
    "    density = 0.2\n",
    "    survival_rules = (2, 3)\n",
    "    birth_rule = 3\n",
    "\n",
    "    grid = initialize_grid(rows, cols, density)\n",
    "\n",
    "    fig, ax = plt.subplots()\n",
    "    img = ax.imshow(grid, interpolation='nearest', cmap='gray')\n",
    "    ani = animation.FuncAnimation(\n",
    "        fig, update, fargs=(img, grid, rows, cols, survival_rules, birth_rule),\n",
    "        frames=10, interval=200, save_count=50\n",
    "    )\n",
    "\n",
    "    plt.show()\n",
    "\n",
    "if __name__ == '__main__':\n",
    "    main()\n"
   ]
  },
  {
   "cell_type": "code",
   "execution_count": null,
   "id": "c5f15e56-fe73-4d7f-8b20-4345d84de7eb",
   "metadata": {},
   "outputs": [],
   "source": []
  },
  {
   "cell_type": "code",
   "execution_count": null,
   "id": "4c53fc79-6e89-49a2-8830-dbf596105e1c",
   "metadata": {},
   "outputs": [],
   "source": []
  },
  {
   "cell_type": "code",
   "execution_count": null,
   "id": "3546e4ce-96e5-4cb0-a5e3-dac84b966192",
   "metadata": {},
   "outputs": [],
   "source": []
  },
  {
   "cell_type": "code",
   "execution_count": null,
   "id": "0abe5e02-f7a7-44ab-81b6-de7ddd7d6d14",
   "metadata": {},
   "outputs": [],
   "source": []
  }
 ],
 "metadata": {
  "kernelspec": {
   "display_name": "Python 3 (ipykernel)",
   "language": "python",
   "name": "python3"
  },
  "language_info": {
   "codemirror_mode": {
    "name": "ipython",
    "version": 3
   },
   "file_extension": ".py",
   "mimetype": "text/x-python",
   "name": "python",
   "nbconvert_exporter": "python",
   "pygments_lexer": "ipython3",
   "version": "3.11.5"
  }
 },
 "nbformat": 4,
 "nbformat_minor": 5
}
